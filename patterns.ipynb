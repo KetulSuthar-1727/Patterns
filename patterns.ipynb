{
 "cells": [
  {
   "cell_type": "markdown",
   "id": "aa694d07",
   "metadata": {},
   "source": [
    "Pattern 1"
   ]
  },
  {
   "cell_type": "code",
   "execution_count": 1,
   "id": "95516240",
   "metadata": {},
   "outputs": [
    {
     "name": "stdout",
     "output_type": "stream",
     "text": [
      "11111\n",
      "22222\n",
      "33333\n",
      "44444\n",
      "55555\n"
     ]
    }
   ],
   "source": [
    "userinput = int(input(\"Enter the number : \"))\n",
    "\n",
    "row = 1\n",
    "\n",
    "while row <= userinput:\n",
    "    col = 1\n",
    "    \n",
    "    while col <= userinput:\n",
    "        print(row,end=\"\")\n",
    "        col += 1\n",
    "\n",
    "    print(\"\")\n",
    "    row += 1"
   ]
  },
  {
   "cell_type": "markdown",
   "id": "12100bd2",
   "metadata": {},
   "source": [
    "Pattern 2\n"
   ]
  },
  {
   "cell_type": "code",
   "execution_count": null,
   "id": "425187ac",
   "metadata": {},
   "outputs": [
    {
     "name": "stdout",
     "output_type": "stream",
     "text": [
      "1 2 3 4 5 \n",
      "1 2 3 4 5 \n",
      "1 2 3 4 5 \n",
      "1 2 3 4 5 \n",
      "1 2 3 4 5 \n"
     ]
    }
   ],
   "source": [
    "userinput = int(input(\"Enter the number : \"))\n",
    "\n",
    "row = 1\n",
    "\n",
    "while row <= userinput:\n",
    "\n",
    "    col = 1\n",
    "    while col <= userinput:\n",
    "        print((col),end=\" \")\n",
    "        col += 1\n",
    "    print(\"\")\n",
    "    row += 1"
   ]
  },
  {
   "cell_type": "markdown",
   "id": "cf35ccad",
   "metadata": {},
   "source": [
    "Pattern 3\n"
   ]
  },
  {
   "cell_type": "code",
   "execution_count": null,
   "id": "fb670dc6",
   "metadata": {},
   "outputs": [
    {
     "name": "stdout",
     "output_type": "stream",
     "text": [
      "5 4 3 2 1 \n",
      "5 4 3 2 1 \n",
      "5 4 3 2 1 \n",
      "5 4 3 2 1 \n",
      "5 4 3 2 1 \n"
     ]
    }
   ],
   "source": [
    "userinput = int(input(\"Enter the number : \"))\n",
    "\n",
    "row = 1\n",
    "\n",
    "while row <= userinput:\n",
    "\n",
    "    col = 1\n",
    "    while col <= userinput:\n",
    "        print((userinput-col+1),end=\" \")\n",
    "        col += 1\n",
    "    print(\"\")\n",
    "    row += 1"
   ]
  },
  {
   "cell_type": "markdown",
   "id": "6fa0ca4a",
   "metadata": {},
   "source": [
    "Pattern 4"
   ]
  },
  {
   "cell_type": "code",
   "execution_count": null,
   "id": "5abe0851",
   "metadata": {},
   "outputs": [
    {
     "name": "stdout",
     "output_type": "stream",
     "text": [
      "1 2 3 \n",
      "4 5 6 \n",
      "7 8 9 \n"
     ]
    }
   ],
   "source": [
    "userinput = int(input(\"Enter the number : \"))\n",
    "\n",
    "row = 1\n",
    "count = 1\n",
    "\n",
    "\n",
    "while row <= userinput:\n",
    "    \n",
    "    col = 1\n",
    "\n",
    "    while col <= userinput:\n",
    "\n",
    "        print(count,end=\" \")\n",
    "\n",
    "        count += 1\n",
    "        col += 1\n",
    "\n",
    "    print(\"\")\n",
    "    row += 1"
   ]
  },
  {
   "cell_type": "markdown",
   "id": "41dc657c",
   "metadata": {},
   "source": [
    "Pattern 5"
   ]
  },
  {
   "cell_type": "code",
   "execution_count": null,
   "id": "d3ad0d2e",
   "metadata": {},
   "outputs": [
    {
     "name": "stdout",
     "output_type": "stream",
     "text": [
      "* \n",
      "* * \n",
      "* * * \n",
      "* * * * \n",
      "* * * * * \n"
     ]
    }
   ],
   "source": [
    "userinput = int(input(\"Enter the number : \"))\n",
    "\n",
    "row = 1\n",
    "\n",
    "while row <= userinput:\n",
    "    \n",
    "    col = 1\n",
    "\n",
    "    while col <= i:\n",
    "\n",
    "        print(\"*\",end=\" \")\n",
    "\n",
    "        col += 1\n",
    "\n",
    "    print(\"\")\n",
    "    row += 1"
   ]
  },
  {
   "cell_type": "markdown",
   "id": "ad7a2626",
   "metadata": {},
   "source": [
    "Pattern 6\n"
   ]
  },
  {
   "cell_type": "code",
   "execution_count": 6,
   "id": "d2f12c53",
   "metadata": {},
   "outputs": [
    {
     "name": "stdout",
     "output_type": "stream",
     "text": [
      "1 \n",
      "2 2 \n",
      "3 3 3 \n",
      "4 4 4 4 \n",
      "5 5 5 5 5 \n"
     ]
    }
   ],
   "source": [
    "userinput = int(input(\"Enter the number : \"))\n",
    "\n",
    "row = 1\n",
    "\n",
    "while row <= userinput:\n",
    "    \n",
    "    col = 1\n",
    "\n",
    "    while col <= row:\n",
    "\n",
    "        print(row,end=\" \")\n",
    "\n",
    "        col += 1\n",
    "\n",
    "    print(\"\")\n",
    "    row += 1"
   ]
  },
  {
   "cell_type": "markdown",
   "id": "ddaabdfb",
   "metadata": {},
   "source": [
    "Pattern 7"
   ]
  },
  {
   "cell_type": "code",
   "execution_count": 19,
   "id": "e9b11ddb",
   "metadata": {},
   "outputs": [
    {
     "name": "stdout",
     "output_type": "stream",
     "text": [
      "1 \n",
      "2 3 \n",
      "4 5 6 \n",
      "7 8 9 10 \n",
      "11 12 13 14 15 \n"
     ]
    }
   ],
   "source": [
    "userinput = int(input(\"Enter the number : \"))\n",
    "\n",
    "row = 1\n",
    "count = 1\n",
    "while row <= userinput:\n",
    "    \n",
    "    col = 1\n",
    "\n",
    "    while col <= row:\n",
    "\n",
    "        print(count,end=\" \")\n",
    "\n",
    "        count += 1\n",
    "        col += 1\n",
    "\n",
    "    print(\"\")\n",
    "    row += 1"
   ]
  },
  {
   "cell_type": "markdown",
   "id": "6a1e3a35",
   "metadata": {},
   "source": [
    "Pattern 8"
   ]
  },
  {
   "cell_type": "code",
   "execution_count": 1,
   "id": "a92bf754",
   "metadata": {},
   "outputs": [
    {
     "name": "stdout",
     "output_type": "stream",
     "text": [
      "1 \n",
      "2 1 \n",
      "3 2 1 \n",
      "4 3 2 1 \n",
      "5 4 3 2 1 \n"
     ]
    }
   ],
   "source": [
    "userinput = int(input(\"Enter the number : \"))\n",
    "\n",
    "row = 1\n",
    "\n",
    "while row <= userinput:\n",
    "    col = 1\n",
    "\n",
    "    while col <= row:\n",
    "\n",
    "        print((row - col + 1),end=\" \")\n",
    "\n",
    "        col += 1\n",
    "\n",
    "    print(\"\")\n",
    "    row += 1"
   ]
  },
  {
   "cell_type": "markdown",
   "id": "e6190574",
   "metadata": {},
   "source": [
    "Pattern 9"
   ]
  },
  {
   "cell_type": "code",
   "execution_count": 7,
   "id": "80959276",
   "metadata": {},
   "outputs": [
    {
     "name": "stdout",
     "output_type": "stream",
     "text": [
      "A A A A \n",
      "B B B B \n",
      "C C C C \n",
      "D D D D \n"
     ]
    }
   ],
   "source": [
    "userinput = int(input(\"Enter the number : \"))\n",
    "\n",
    "row = 1\n",
    "value = chr(65)\n",
    "while row <= userinput:\n",
    "    col = 1\n",
    "\n",
    "    while col <= userinput:\n",
    "\n",
    "        print((value),end=\" \")\n",
    "\n",
    "        col += 1\n",
    "        \n",
    "    value = chr(ord(value) + 1)\n",
    "    print(\"\")\n",
    "    row += 1"
   ]
  },
  {
   "cell_type": "markdown",
   "id": "3e050af2",
   "metadata": {},
   "source": [
    "Pattern 10"
   ]
  },
  {
   "cell_type": "code",
   "execution_count": null,
   "id": "8b39ff7f",
   "metadata": {},
   "outputs": [
    {
     "name": "stdout",
     "output_type": "stream",
     "text": [
      "A B C D E \n",
      "A B C D E \n",
      "A B C D E \n",
      "A B C D E \n",
      "A B C D E \n"
     ]
    }
   ],
   "source": [
    "userinput = int(input(\"Enter the number : \"))\n",
    "\n",
    "row = 1\n",
    "\n",
    "while row <= userinput:\n",
    "    col = 1\n",
    "    value = chr(65)\n",
    "    while col <= userinput:\n",
    "\n",
    "        print((value),end=\" \")\n",
    "\n",
    "        col += 1\n",
    "        value = chr(ord(value) + 1)\n",
    "    print(\"\")\n",
    "    row += 1"
   ]
  },
  {
   "cell_type": "markdown",
   "id": "f392b73d",
   "metadata": {},
   "source": [
    "Pattern 11"
   ]
  },
  {
   "cell_type": "code",
   "execution_count": 20,
   "id": "9a4d8380",
   "metadata": {},
   "outputs": [
    {
     "name": "stdout",
     "output_type": "stream",
     "text": [
      "A B C D E \n",
      "B C D E F \n",
      "C D E F G \n",
      "D E F G H \n",
      "E F G H I \n"
     ]
    }
   ],
   "source": [
    "userinput = int(input(\"Enter the number : \"))\n",
    "\n",
    "row = 1\n",
    "\n",
    "while row <= userinput:\n",
    "    col = 1\n",
    "    \n",
    "    \n",
    "    while col <= userinput:\n",
    "        \n",
    "        print((chr(ord('A') + row + col - 2)),end=\" \")\n",
    "        \n",
    "        col += 1\n",
    "        \n",
    "    print(\"\")\n",
    "    row += 1"
   ]
  },
  {
   "cell_type": "markdown",
   "id": "171ec7e6",
   "metadata": {},
   "source": [
    "Pattern 12"
   ]
  },
  {
   "cell_type": "code",
   "execution_count": 1,
   "id": "0093144b",
   "metadata": {},
   "outputs": [
    {
     "name": "stdout",
     "output_type": "stream",
     "text": [
      "A \n",
      "B B \n",
      "C C C \n",
      "D D D D \n",
      "E E E E E \n"
     ]
    }
   ],
   "source": [
    "userinput = int(input(\"Enter the number : \"))\n",
    "\n",
    "row = 1\n",
    "value = chr(65)\n",
    "while row <= userinput:\n",
    "    \n",
    "    col = 1\n",
    "    while col <= row:\n",
    "        print(value,end=\" \")\n",
    "\n",
    "        col += 1\n",
    "    value = chr(ord(value) + 1) \n",
    "    print(\"\")\n",
    "    row += 1"
   ]
  },
  {
   "cell_type": "markdown",
   "id": "8068a05a",
   "metadata": {},
   "source": [
    "Pattern 13"
   ]
  },
  {
   "cell_type": "code",
   "execution_count": null,
   "id": "1bfb98a1",
   "metadata": {},
   "outputs": [
    {
     "name": "stdout",
     "output_type": "stream",
     "text": [
      "A \n",
      "B C \n",
      "D E F \n",
      "G H I J \n",
      "K L M N O \n"
     ]
    }
   ],
   "source": [
    "userinput = int(input(\"Enter the number : \"))\n",
    "\n",
    "row = 1\n",
    "value = chr(65)\n",
    "while row <= userinput:\n",
    "    \n",
    "    col = 1\n",
    "    while col <= row:\n",
    "        print(value,end=\" \")\n",
    "\n",
    "        col += 1\n",
    "        value = chr(ord(value) + 1)\n",
    "    print(\"\")\n",
    "    row += 1\n",
    "    "
   ]
  },
  {
   "cell_type": "markdown",
   "id": "dc370b85",
   "metadata": {},
   "source": [
    "Pattern 14"
   ]
  },
  {
   "cell_type": "code",
   "execution_count": 7,
   "id": "867a9919",
   "metadata": {},
   "outputs": [
    {
     "name": "stdout",
     "output_type": "stream",
     "text": [
      "A \n",
      "B C \n",
      "C D E \n",
      "D E F G \n",
      "E F G H I \n"
     ]
    }
   ],
   "source": [
    "userinput = int(input(\"Enter the number : \"))\n",
    "\n",
    "row = 1\n",
    "value = chr(65)\n",
    "while row <= userinput:\n",
    "    \n",
    "    col = 1\n",
    "    while col <= row:\n",
    "        print(chr(ord(value) + row + col - 2),end=\" \")\n",
    "\n",
    "        col += 1\n",
    "    print(\"\")\n",
    "    row += 1"
   ]
  },
  {
   "cell_type": "markdown",
   "id": "b31e5ef9",
   "metadata": {},
   "source": [
    "Pattern 15"
   ]
  },
  {
   "cell_type": "code",
   "execution_count": 2,
   "id": "fe989860",
   "metadata": {},
   "outputs": [
    {
     "name": "stdout",
     "output_type": "stream",
     "text": [
      "        1 \n",
      "      1 2 1 \n",
      "    1 2 3 2 1 \n",
      "  1 2 3 4 3 2 1 \n",
      "1 2 3 4 5 4 3 2 1 \n"
     ]
    }
   ],
   "source": [
    "userinput =  int(input(\"Enter the number : \"))\n",
    "\n",
    "\n",
    "row = 1\n",
    "\n",
    "while row <= userinput:\n",
    "     #first print the spaces\n",
    "    space = userinput - row\n",
    "    while space:\n",
    "        print(\" \",end=\" \")\n",
    "        space -= 1\n",
    "     #then print the triangle\n",
    "    col = 1\n",
    "    while(col <= row):\n",
    "        print(col,end=\" \")\n",
    "        col += 1\n",
    "\n",
    "     #then print the reverse triangle\n",
    "    start = row - 1\n",
    "    while start:\n",
    "        print(start,end=\" \")\n",
    "        start -= 1\n",
    "    \n",
    "    print(\"\")\n",
    "    row += 1\n"
   ]
  },
  {
   "cell_type": "markdown",
   "id": "622e8dd8",
   "metadata": {},
   "source": [
    "Pattern 16"
   ]
  },
  {
   "cell_type": "code",
   "execution_count": 3,
   "id": "e66c3dc0",
   "metadata": {},
   "outputs": [
    {
     "name": "stdout",
     "output_type": "stream",
     "text": [
      "1234554321\n",
      "1234**4321\n",
      "123****321\n",
      "12******21\n",
      "1********1\n"
     ]
    }
   ],
   "source": [
    "userinput = int(input(\"Enter the number : \"))\n",
    "\n",
    "row = 1\n",
    "\n",
    "while (row <= userinput):\n",
    "\n",
    "    start = 1\n",
    "    \n",
    "    while (start <= userinput - row + 1):\n",
    "        print(start,end=\"\")\n",
    "        start += 1\n",
    "    print(\"**\" * (row - 1),end=\"\")\n",
    "\n",
    "    # second pattern\n",
    "    value = userinput - row + 1\n",
    "    while (value >= 1):\n",
    "        print(value,end=\"\")\n",
    "        value -= 1\n",
    " \n",
    "    print(\"\")\n",
    "    row += 1\n",
    "    "
   ]
  }
 ],
 "metadata": {
  "kernelspec": {
   "display_name": "Python 3",
   "language": "python",
   "name": "python3"
  },
  "language_info": {
   "codemirror_mode": {
    "name": "ipython",
    "version": 3
   },
   "file_extension": ".py",
   "mimetype": "text/x-python",
   "name": "python",
   "nbconvert_exporter": "python",
   "pygments_lexer": "ipython3",
   "version": "3.12.5"
  }
 },
 "nbformat": 4,
 "nbformat_minor": 5
}
